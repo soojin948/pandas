{
  "nbformat": 4,
  "nbformat_minor": 0,
  "metadata": {
    "colab": {
      "name": "DAY01 .ipynb",
      "provenance": [],
      "authorship_tag": "ABX9TyNBIRNXcmVMb3KdAJBHLPTL",
      "include_colab_link": true
    },
    "kernelspec": {
      "name": "python3",
      "display_name": "Python 3"
    },
    "language_info": {
      "name": "python"
    }
  },
  "cells": [
    {
      "cell_type": "markdown",
      "metadata": {
        "id": "view-in-github",
        "colab_type": "text"
      },
      "source": [
        "<a href=\"https://colab.research.google.com/github/soojin948/pandas1/blob/main/DAY01_.ipynb\" target=\"_parent\"><img src=\"https://colab.research.google.com/assets/colab-badge.svg\" alt=\"Open In Colab\"/></a>"
      ]
    },
    {
      "cell_type": "code",
      "metadata": {
        "id": "bDN0NmF66DVy"
      },
      "source": [
        "#List - mutable, 수정과 삭제가 가능하다. 인덱싱, 슬라이싱 가능 [] 대괄호\n",
        "#        하나의 리스트에 숫자형, 문자형, 튜플, 딕셔너리,,,섞어서 저장이 가능하다.\n",
        "#Tuple - 수정과 삭제가 가능하나, 인덱싱, 슬라이싱 불가능 () 소괄호\n",
        "#Dictionary, 수정과 삭제는 가능, 인덱싱,슬라이싱 불가능 {} 중괄호"
      ],
      "execution_count": null,
      "outputs": []
    },
    {
      "cell_type": "code",
      "metadata": {
        "colab": {
          "base_uri": "https://localhost:8080/"
        },
        "id": "OsC8rhNZ7uzB",
        "outputId": "c76a1163-17c5-47db-adb9-6fddc84597cc"
      },
      "source": [
        "odd=[1,2,3,4,5]\n",
        "odd"
      ],
      "execution_count": null,
      "outputs": [
        {
          "output_type": "execute_result",
          "data": {
            "text/plain": [
              "[1, 2, 3, 4, 5]"
            ]
          },
          "metadata": {},
          "execution_count": 1
        }
      ]
    },
    {
      "cell_type": "code",
      "metadata": {
        "id": "1JDCNIfs8_wN"
      },
      "source": [
        "#LIST에서 INDEXING, \n",
        "#몇번째 요소를 추출"
      ],
      "execution_count": null,
      "outputs": []
    },
    {
      "cell_type": "code",
      "metadata": {
        "colab": {
          "base_uri": "https://localhost:8080/"
        },
        "id": "UJafst9e7u3W",
        "outputId": "e071b468-4b75-4046-f444-2e6ff03da500"
      },
      "source": [
        "a=[1,2,3]\n",
        "a[0]"
      ],
      "execution_count": null,
      "outputs": [
        {
          "output_type": "execute_result",
          "data": {
            "text/plain": [
              "1"
            ]
          },
          "metadata": {},
          "execution_count": 2
        }
      ]
    },
    {
      "cell_type": "code",
      "metadata": {
        "colab": {
          "base_uri": "https://localhost:8080/"
        },
        "id": "Zj4xquDc_Amp",
        "outputId": "cb5fc984-076d-4e65-b7ba-234b1d8a43f7"
      },
      "source": [
        "a[0]+a[2]"
      ],
      "execution_count": null,
      "outputs": [
        {
          "output_type": "execute_result",
          "data": {
            "text/plain": [
              "4"
            ]
          },
          "metadata": {},
          "execution_count": 3
        }
      ]
    },
    {
      "cell_type": "code",
      "metadata": {
        "id": "zyU5bOyG_LBA"
      },
      "source": [
        ""
      ],
      "execution_count": null,
      "outputs": []
    },
    {
      "cell_type": "code",
      "metadata": {
        "id": "g8JwNfh27u6A"
      },
      "source": [
        ""
      ],
      "execution_count": null,
      "outputs": []
    }
  ]
}